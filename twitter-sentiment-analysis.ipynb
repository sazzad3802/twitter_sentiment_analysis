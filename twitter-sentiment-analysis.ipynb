{
  "nbformat": 4,
  "nbformat_minor": 0,
  "metadata": {
    "colab": {
      "name": "Final project-Tafseer.ipynb",
      "provenance": [],
      "collapsed_sections": [],
      "toc_visible": true
    },
    "kernelspec": {
      "name": "python3",
      "display_name": "Python 3"
    },
    "language_info": {
      "name": "python"
    },
    "accelerator": "GPU"
  },
  "cells": [
    {
      "cell_type": "markdown",
      "source": [
        "# import"
      ],
      "metadata": {
        "id": "CQBiqZHGJ7wX"
      }
    },
    {
      "cell_type": "code",
      "execution_count": null,
      "metadata": {
        "id": "dJFEnpedIX0s"
      },
      "outputs": [],
      "source": [
        "import pandas as pd\n",
        "from sklearn.feature_extraction.text import TfidfVectorizer\n",
        "from sklearn.linear_model import LogisticRegression \n",
        "from sklearn.naive_bayes import ComplementNB\n",
        "from sklearn.svm import SVC\n",
        "from sklearn.model_selection import train_test_split\n",
        "from sklearn.metrics import classification_report, accuracy_score, f1_score\n",
        "import string\n",
        "import re\n",
        "from sklearn.utils import resample\n",
        "import numpy as np # linear algebra\n",
        "import pandas as pd # data processing, CSV file I/O (e.g. pd.read_csv)\n",
        "from tqdm import tqdm\n",
        "from sklearn.model_selection import train_test_split\n",
        "import tensorflow as tf\n",
        "from tensorflow.keras.models import Sequential\n",
        "from tensorflow.keras.preprocessing.sequence import pad_sequences\n",
        "from tensorflow.keras.layers import LSTM\n",
        "from tensorflow.keras.layers import Dense, Activation, Dropout\n",
        "from tensorflow.keras.layers import Embedding\n",
        "from tensorflow.keras.layers import BatchNormalization\n",
        "from tensorflow.keras import layers\n",
        "from sklearn import preprocessing, decomposition, model_selection, metrics, pipeline\n",
        "from tensorflow.keras.layers import Flatten, Bidirectional, SpatialDropout1D\n",
        "from tensorflow.keras.preprocessing import sequence, text\n",
        "from tensorflow.keras.preprocessing.text import Tokenizer\n",
        "from tensorflow.keras.callbacks import EarlyStopping"
      ]
    },
    {
      "cell_type": "code",
      "source": [
        "df_train = pd.read_csv(\"/content/drive/MyDrive/Colab Notebooks/dataset/twitter-2016train-A.txt\", sep = '\\t', names = ['id','sentiment','tweets'])\n",
        "df_test = pd.read_csv(\"/content/drive/MyDrive/Colab Notebooks/dataset/twitter-2016devtest-A.txt\", sep = '\\t', names = ['id','sentiment','tweets'])\n",
        "df_train = df_train.drop(labels=[\"id\"],axis=1)\n",
        "df_test = df_test.drop(labels=[\"id\"],axis=1)\n",
        "df_train.head()"
      ],
      "metadata": {
        "colab": {
          "base_uri": "https://localhost:8080/",
          "height": 206
        },
        "id": "BlB29IWiJ_cB",
        "outputId": "981aaef9-60f2-41e7-c36d-2b2ecd2fe6bd"
      },
      "execution_count": null,
      "outputs": [
        {
          "output_type": "execute_result",
          "data": {
            "text/plain": [
              "  sentiment                                             tweets\n",
              "0  negative  dear @Microsoft the newOoffice for Mac is grea...\n",
              "1  negative  @Microsoft how about you make a system that do...\n",
              "2  negative  I may be ignorant on this issue but... should ...\n",
              "3  negative  Thanks to @microsoft, I just may be switching ...\n",
              "4   neutral  If I make a game as a #windows10 Universal App..."
            ],
            "text/html": [
              "\n",
              "  <div id=\"df-de591bd2-9e1d-4ed9-ac69-31e3e52fd620\">\n",
              "    <div class=\"colab-df-container\">\n",
              "      <div>\n",
              "<style scoped>\n",
              "    .dataframe tbody tr th:only-of-type {\n",
              "        vertical-align: middle;\n",
              "    }\n",
              "\n",
              "    .dataframe tbody tr th {\n",
              "        vertical-align: top;\n",
              "    }\n",
              "\n",
              "    .dataframe thead th {\n",
              "        text-align: right;\n",
              "    }\n",
              "</style>\n",
              "<table border=\"1\" class=\"dataframe\">\n",
              "  <thead>\n",
              "    <tr style=\"text-align: right;\">\n",
              "      <th></th>\n",
              "      <th>sentiment</th>\n",
              "      <th>tweets</th>\n",
              "    </tr>\n",
              "  </thead>\n",
              "  <tbody>\n",
              "    <tr>\n",
              "      <th>0</th>\n",
              "      <td>negative</td>\n",
              "      <td>dear @Microsoft the newOoffice for Mac is grea...</td>\n",
              "    </tr>\n",
              "    <tr>\n",
              "      <th>1</th>\n",
              "      <td>negative</td>\n",
              "      <td>@Microsoft how about you make a system that do...</td>\n",
              "    </tr>\n",
              "    <tr>\n",
              "      <th>2</th>\n",
              "      <td>negative</td>\n",
              "      <td>I may be ignorant on this issue but... should ...</td>\n",
              "    </tr>\n",
              "    <tr>\n",
              "      <th>3</th>\n",
              "      <td>negative</td>\n",
              "      <td>Thanks to @microsoft, I just may be switching ...</td>\n",
              "    </tr>\n",
              "    <tr>\n",
              "      <th>4</th>\n",
              "      <td>neutral</td>\n",
              "      <td>If I make a game as a #windows10 Universal App...</td>\n",
              "    </tr>\n",
              "  </tbody>\n",
              "</table>\n",
              "</div>\n",
              "      <button class=\"colab-df-convert\" onclick=\"convertToInteractive('df-de591bd2-9e1d-4ed9-ac69-31e3e52fd620')\"\n",
              "              title=\"Convert this dataframe to an interactive table.\"\n",
              "              style=\"display:none;\">\n",
              "        \n",
              "  <svg xmlns=\"http://www.w3.org/2000/svg\" height=\"24px\"viewBox=\"0 0 24 24\"\n",
              "       width=\"24px\">\n",
              "    <path d=\"M0 0h24v24H0V0z\" fill=\"none\"/>\n",
              "    <path d=\"M18.56 5.44l.94 2.06.94-2.06 2.06-.94-2.06-.94-.94-2.06-.94 2.06-2.06.94zm-11 1L8.5 8.5l.94-2.06 2.06-.94-2.06-.94L8.5 2.5l-.94 2.06-2.06.94zm10 10l.94 2.06.94-2.06 2.06-.94-2.06-.94-.94-2.06-.94 2.06-2.06.94z\"/><path d=\"M17.41 7.96l-1.37-1.37c-.4-.4-.92-.59-1.43-.59-.52 0-1.04.2-1.43.59L10.3 9.45l-7.72 7.72c-.78.78-.78 2.05 0 2.83L4 21.41c.39.39.9.59 1.41.59.51 0 1.02-.2 1.41-.59l7.78-7.78 2.81-2.81c.8-.78.8-2.07 0-2.86zM5.41 20L4 18.59l7.72-7.72 1.47 1.35L5.41 20z\"/>\n",
              "  </svg>\n",
              "      </button>\n",
              "      \n",
              "  <style>\n",
              "    .colab-df-container {\n",
              "      display:flex;\n",
              "      flex-wrap:wrap;\n",
              "      gap: 12px;\n",
              "    }\n",
              "\n",
              "    .colab-df-convert {\n",
              "      background-color: #E8F0FE;\n",
              "      border: none;\n",
              "      border-radius: 50%;\n",
              "      cursor: pointer;\n",
              "      display: none;\n",
              "      fill: #1967D2;\n",
              "      height: 32px;\n",
              "      padding: 0 0 0 0;\n",
              "      width: 32px;\n",
              "    }\n",
              "\n",
              "    .colab-df-convert:hover {\n",
              "      background-color: #E2EBFA;\n",
              "      box-shadow: 0px 1px 2px rgba(60, 64, 67, 0.3), 0px 1px 3px 1px rgba(60, 64, 67, 0.15);\n",
              "      fill: #174EA6;\n",
              "    }\n",
              "\n",
              "    [theme=dark] .colab-df-convert {\n",
              "      background-color: #3B4455;\n",
              "      fill: #D2E3FC;\n",
              "    }\n",
              "\n",
              "    [theme=dark] .colab-df-convert:hover {\n",
              "      background-color: #434B5C;\n",
              "      box-shadow: 0px 1px 3px 1px rgba(0, 0, 0, 0.15);\n",
              "      filter: drop-shadow(0px 1px 2px rgba(0, 0, 0, 0.3));\n",
              "      fill: #FFFFFF;\n",
              "    }\n",
              "  </style>\n",
              "\n",
              "      <script>\n",
              "        const buttonEl =\n",
              "          document.querySelector('#df-de591bd2-9e1d-4ed9-ac69-31e3e52fd620 button.colab-df-convert');\n",
              "        buttonEl.style.display =\n",
              "          google.colab.kernel.accessAllowed ? 'block' : 'none';\n",
              "\n",
              "        async function convertToInteractive(key) {\n",
              "          const element = document.querySelector('#df-de591bd2-9e1d-4ed9-ac69-31e3e52fd620');\n",
              "          const dataTable =\n",
              "            await google.colab.kernel.invokeFunction('convertToInteractive',\n",
              "                                                     [key], {});\n",
              "          if (!dataTable) return;\n",
              "\n",
              "          const docLinkHtml = 'Like what you see? Visit the ' +\n",
              "            '<a target=\"_blank\" href=https://colab.research.google.com/notebooks/data_table.ipynb>data table notebook</a>'\n",
              "            + ' to learn more about interactive tables.';\n",
              "          element.innerHTML = '';\n",
              "          dataTable['output_type'] = 'display_data';\n",
              "          await google.colab.output.renderOutput(dataTable, element);\n",
              "          const docLink = document.createElement('div');\n",
              "          docLink.innerHTML = docLinkHtml;\n",
              "          element.appendChild(docLink);\n",
              "        }\n",
              "      </script>\n",
              "    </div>\n",
              "  </div>\n",
              "  "
            ]
          },
          "metadata": {},
          "execution_count": 2
        }
      ]
    },
    {
      "cell_type": "code",
      "source": [
        "def label_encoder(x):\n",
        "    if x == 'positive': return 2\n",
        "    elif x == 'negative': return 0\n",
        "    else: return 1\n",
        "    \n",
        "newdf = pd.concat([df_train,df_test]).reset_index(drop=True)\n",
        "newdf.head()\n",
        "\n"
      ],
      "metadata": {
        "colab": {
          "base_uri": "https://localhost:8080/",
          "height": 206
        },
        "id": "5Sm3-nMdLFg2",
        "outputId": "eb9096a9-5e7a-4509-f487-3961f93c88d5"
      },
      "execution_count": null,
      "outputs": [
        {
          "output_type": "execute_result",
          "data": {
            "text/plain": [
              "  sentiment                                             tweets\n",
              "0  negative  dear @Microsoft the newOoffice for Mac is grea...\n",
              "1  negative  @Microsoft how about you make a system that do...\n",
              "2  negative  I may be ignorant on this issue but... should ...\n",
              "3  negative  Thanks to @microsoft, I just may be switching ...\n",
              "4   neutral  If I make a game as a #windows10 Universal App..."
            ],
            "text/html": [
              "\n",
              "  <div id=\"df-fc7f0ccb-0fcc-4a29-845a-7868789e78df\">\n",
              "    <div class=\"colab-df-container\">\n",
              "      <div>\n",
              "<style scoped>\n",
              "    .dataframe tbody tr th:only-of-type {\n",
              "        vertical-align: middle;\n",
              "    }\n",
              "\n",
              "    .dataframe tbody tr th {\n",
              "        vertical-align: top;\n",
              "    }\n",
              "\n",
              "    .dataframe thead th {\n",
              "        text-align: right;\n",
              "    }\n",
              "</style>\n",
              "<table border=\"1\" class=\"dataframe\">\n",
              "  <thead>\n",
              "    <tr style=\"text-align: right;\">\n",
              "      <th></th>\n",
              "      <th>sentiment</th>\n",
              "      <th>tweets</th>\n",
              "    </tr>\n",
              "  </thead>\n",
              "  <tbody>\n",
              "    <tr>\n",
              "      <th>0</th>\n",
              "      <td>negative</td>\n",
              "      <td>dear @Microsoft the newOoffice for Mac is grea...</td>\n",
              "    </tr>\n",
              "    <tr>\n",
              "      <th>1</th>\n",
              "      <td>negative</td>\n",
              "      <td>@Microsoft how about you make a system that do...</td>\n",
              "    </tr>\n",
              "    <tr>\n",
              "      <th>2</th>\n",
              "      <td>negative</td>\n",
              "      <td>I may be ignorant on this issue but... should ...</td>\n",
              "    </tr>\n",
              "    <tr>\n",
              "      <th>3</th>\n",
              "      <td>negative</td>\n",
              "      <td>Thanks to @microsoft, I just may be switching ...</td>\n",
              "    </tr>\n",
              "    <tr>\n",
              "      <th>4</th>\n",
              "      <td>neutral</td>\n",
              "      <td>If I make a game as a #windows10 Universal App...</td>\n",
              "    </tr>\n",
              "  </tbody>\n",
              "</table>\n",
              "</div>\n",
              "      <button class=\"colab-df-convert\" onclick=\"convertToInteractive('df-fc7f0ccb-0fcc-4a29-845a-7868789e78df')\"\n",
              "              title=\"Convert this dataframe to an interactive table.\"\n",
              "              style=\"display:none;\">\n",
              "        \n",
              "  <svg xmlns=\"http://www.w3.org/2000/svg\" height=\"24px\"viewBox=\"0 0 24 24\"\n",
              "       width=\"24px\">\n",
              "    <path d=\"M0 0h24v24H0V0z\" fill=\"none\"/>\n",
              "    <path d=\"M18.56 5.44l.94 2.06.94-2.06 2.06-.94-2.06-.94-.94-2.06-.94 2.06-2.06.94zm-11 1L8.5 8.5l.94-2.06 2.06-.94-2.06-.94L8.5 2.5l-.94 2.06-2.06.94zm10 10l.94 2.06.94-2.06 2.06-.94-2.06-.94-.94-2.06-.94 2.06-2.06.94z\"/><path d=\"M17.41 7.96l-1.37-1.37c-.4-.4-.92-.59-1.43-.59-.52 0-1.04.2-1.43.59L10.3 9.45l-7.72 7.72c-.78.78-.78 2.05 0 2.83L4 21.41c.39.39.9.59 1.41.59.51 0 1.02-.2 1.41-.59l7.78-7.78 2.81-2.81c.8-.78.8-2.07 0-2.86zM5.41 20L4 18.59l7.72-7.72 1.47 1.35L5.41 20z\"/>\n",
              "  </svg>\n",
              "      </button>\n",
              "      \n",
              "  <style>\n",
              "    .colab-df-container {\n",
              "      display:flex;\n",
              "      flex-wrap:wrap;\n",
              "      gap: 12px;\n",
              "    }\n",
              "\n",
              "    .colab-df-convert {\n",
              "      background-color: #E8F0FE;\n",
              "      border: none;\n",
              "      border-radius: 50%;\n",
              "      cursor: pointer;\n",
              "      display: none;\n",
              "      fill: #1967D2;\n",
              "      height: 32px;\n",
              "      padding: 0 0 0 0;\n",
              "      width: 32px;\n",
              "    }\n",
              "\n",
              "    .colab-df-convert:hover {\n",
              "      background-color: #E2EBFA;\n",
              "      box-shadow: 0px 1px 2px rgba(60, 64, 67, 0.3), 0px 1px 3px 1px rgba(60, 64, 67, 0.15);\n",
              "      fill: #174EA6;\n",
              "    }\n",
              "\n",
              "    [theme=dark] .colab-df-convert {\n",
              "      background-color: #3B4455;\n",
              "      fill: #D2E3FC;\n",
              "    }\n",
              "\n",
              "    [theme=dark] .colab-df-convert:hover {\n",
              "      background-color: #434B5C;\n",
              "      box-shadow: 0px 1px 3px 1px rgba(0, 0, 0, 0.15);\n",
              "      filter: drop-shadow(0px 1px 2px rgba(0, 0, 0, 0.3));\n",
              "      fill: #FFFFFF;\n",
              "    }\n",
              "  </style>\n",
              "\n",
              "      <script>\n",
              "        const buttonEl =\n",
              "          document.querySelector('#df-fc7f0ccb-0fcc-4a29-845a-7868789e78df button.colab-df-convert');\n",
              "        buttonEl.style.display =\n",
              "          google.colab.kernel.accessAllowed ? 'block' : 'none';\n",
              "\n",
              "        async function convertToInteractive(key) {\n",
              "          const element = document.querySelector('#df-fc7f0ccb-0fcc-4a29-845a-7868789e78df');\n",
              "          const dataTable =\n",
              "            await google.colab.kernel.invokeFunction('convertToInteractive',\n",
              "                                                     [key], {});\n",
              "          if (!dataTable) return;\n",
              "\n",
              "          const docLinkHtml = 'Like what you see? Visit the ' +\n",
              "            '<a target=\"_blank\" href=https://colab.research.google.com/notebooks/data_table.ipynb>data table notebook</a>'\n",
              "            + ' to learn more about interactive tables.';\n",
              "          element.innerHTML = '';\n",
              "          dataTable['output_type'] = 'display_data';\n",
              "          await google.colab.output.renderOutput(dataTable, element);\n",
              "          const docLink = document.createElement('div');\n",
              "          docLink.innerHTML = docLinkHtml;\n",
              "          element.appendChild(docLink);\n",
              "        }\n",
              "      </script>\n",
              "    </div>\n",
              "  </div>\n",
              "  "
            ]
          },
          "metadata": {},
          "execution_count": 3
        }
      ]
    },
    {
      "cell_type": "markdown",
      "source": [
        "# Preprocessing\n",
        "\n",
        "# StopWord Remove, Punctuation Remove, Digram TFIDF"
      ],
      "metadata": {
        "id": "bKJu4H_kOiVO"
      }
    },
    {
      "cell_type": "code",
      "source": [
        "def remove_punctuation(x):\n",
        "    return x.translate(str.maketrans('', '', string.punctuation))\n",
        "\n",
        "X = newdf.tweets.apply(lambda x: remove_punctuation(x))\n",
        "X.head()"
      ],
      "metadata": {
        "colab": {
          "base_uri": "https://localhost:8080/"
        },
        "id": "33ZYA89yOvng",
        "outputId": "b7053386-7530-4cfd-c0c0-ccdcd408780d"
      },
      "execution_count": null,
      "outputs": [
        {
          "output_type": "execute_result",
          "data": {
            "text/plain": [
              "0    dear Microsoft the newOoffice for Mac is great...\n",
              "1    Microsoft how about you make a system that doe...\n",
              "2    I may be ignorant on this issue but should we ...\n",
              "3    Thanks to microsoft I just may be switching ov...\n",
              "4    If I make a game as a windows10 Universal App ...\n",
              "Name: tweets, dtype: object"
            ]
          },
          "metadata": {},
          "execution_count": 4
        }
      ]
    },
    {
      "cell_type": "code",
      "source": [
        "vectorizer = TfidfVectorizer(stop_words = {'english'},ngram_range=(1,3))\n",
        "X = vectorizer.fit_transform(X)\n",
        "Y = newdf.sentiment.apply(lambda x: label_encoder(x))\n",
        "X_train, X_test, Y_train, Y_test = train_test_split(X, Y, train_size = 0.8, shuffle = True)"
      ],
      "metadata": {
        "id": "lnyRs-tZPBDj"
      },
      "execution_count": null,
      "outputs": []
    },
    {
      "cell_type": "code",
      "source": [
        "LR_model = LogisticRegression(max_iter=6000).fit(X_train,Y_train)\n",
        "SVM_model = SVC(kernel='rbf').fit(X_train, Y_train)\n",
        "NB_model = ComplementNB().fit(X_train,Y_train)"
      ],
      "metadata": {
        "id": "sKqyi0R1PNLp"
      },
      "execution_count": null,
      "outputs": []
    },
    {
      "cell_type": "markdown",
      "source": [
        "Result"
      ],
      "metadata": {
        "id": "YtlyORaMP8u0"
      }
    },
    {
      "cell_type": "code",
      "source": [
        "print(\"LR Score  \\n\", classification_report(Y_test, LR_model.predict(X_test)))\n"
      ],
      "metadata": {
        "colab": {
          "base_uri": "https://localhost:8080/"
        },
        "id": "Qmbv1L9vQCy1",
        "outputId": "7cb3d0b6-7d7d-426f-bfca-5b080fd076b1"
      },
      "execution_count": null,
      "outputs": [
        {
          "output_type": "stream",
          "name": "stdout",
          "text": [
            "LR Score  \n",
            "               precision    recall  f1-score   support\n",
            "\n",
            "           0       0.00      0.00      0.00       242\n",
            "           1       0.51      0.27      0.35       557\n",
            "           2       0.57      0.94      0.71       775\n",
            "\n",
            "    accuracy                           0.56      1574\n",
            "   macro avg       0.36      0.40      0.35      1574\n",
            "weighted avg       0.46      0.56      0.47      1574\n",
            "\n"
          ]
        }
      ]
    },
    {
      "cell_type": "code",
      "source": [
        "print(\"SVC Score  \\n\", classification_report(Y_test, SVM_model.predict(X_test)))"
      ],
      "metadata": {
        "colab": {
          "base_uri": "https://localhost:8080/"
        },
        "id": "BmYSzYRLQ6o_",
        "outputId": "70be385f-5bec-4aa0-d051-90bec7c94780"
      },
      "execution_count": null,
      "outputs": [
        {
          "output_type": "stream",
          "name": "stdout",
          "text": [
            "SVC Score  \n",
            "               precision    recall  f1-score   support\n",
            "\n",
            "           0       0.00      0.00      0.00       242\n",
            "           1       0.59      0.10      0.16       557\n",
            "           2       0.52      0.99      0.68       775\n",
            "\n",
            "    accuracy                           0.52      1574\n",
            "   macro avg       0.37      0.36      0.28      1574\n",
            "weighted avg       0.46      0.52      0.39      1574\n",
            "\n"
          ]
        }
      ]
    },
    {
      "cell_type": "code",
      "source": [
        "print(\"NB Score  \\n\", classification_report(Y_test, NB_model.predict(X_test)))"
      ],
      "metadata": {
        "colab": {
          "base_uri": "https://localhost:8080/"
        },
        "id": "34a8PEnTRJND",
        "outputId": "8c0bddf2-8419-4892-d793-076a444f26bf"
      },
      "execution_count": null,
      "outputs": [
        {
          "output_type": "stream",
          "name": "stdout",
          "text": [
            "NB Score  \n",
            "               precision    recall  f1-score   support\n",
            "\n",
            "           0       0.46      0.14      0.21       242\n",
            "           1       0.55      0.28      0.37       557\n",
            "           2       0.58      0.91      0.71       775\n",
            "\n",
            "    accuracy                           0.57      1574\n",
            "   macro avg       0.53      0.44      0.43      1574\n",
            "weighted avg       0.55      0.57      0.51      1574\n",
            "\n"
          ]
        }
      ]
    },
    {
      "cell_type": "markdown",
      "source": [
        "# Preporocessing-2\n",
        "\n",
        "# Removes punctuation, stopwords and Dataset resampled for balancing."
      ],
      "metadata": {
        "id": "ogJm7uBrSxy1"
      }
    },
    {
      "cell_type": "code",
      "source": [
        "cdf = newdf.copy().reset_index(drop=True)\n",
        "cdf.head()"
      ],
      "metadata": {
        "colab": {
          "base_uri": "https://localhost:8080/",
          "height": 206
        },
        "id": "dK_T2rNPTDnk",
        "outputId": "1a3d7b81-934b-4a05-e95d-9f7c741169ed"
      },
      "execution_count": null,
      "outputs": [
        {
          "output_type": "execute_result",
          "data": {
            "text/plain": [
              "  sentiment                                             tweets\n",
              "0  negative  dear @Microsoft the newOoffice for Mac is grea...\n",
              "1  negative  @Microsoft how about you make a system that do...\n",
              "2  negative  I may be ignorant on this issue but... should ...\n",
              "3  negative  Thanks to @microsoft, I just may be switching ...\n",
              "4   neutral  If I make a game as a #windows10 Universal App..."
            ],
            "text/html": [
              "\n",
              "  <div id=\"df-40dabb28-bc74-4017-a706-b8268aea0913\">\n",
              "    <div class=\"colab-df-container\">\n",
              "      <div>\n",
              "<style scoped>\n",
              "    .dataframe tbody tr th:only-of-type {\n",
              "        vertical-align: middle;\n",
              "    }\n",
              "\n",
              "    .dataframe tbody tr th {\n",
              "        vertical-align: top;\n",
              "    }\n",
              "\n",
              "    .dataframe thead th {\n",
              "        text-align: right;\n",
              "    }\n",
              "</style>\n",
              "<table border=\"1\" class=\"dataframe\">\n",
              "  <thead>\n",
              "    <tr style=\"text-align: right;\">\n",
              "      <th></th>\n",
              "      <th>sentiment</th>\n",
              "      <th>tweets</th>\n",
              "    </tr>\n",
              "  </thead>\n",
              "  <tbody>\n",
              "    <tr>\n",
              "      <th>0</th>\n",
              "      <td>negative</td>\n",
              "      <td>dear @Microsoft the newOoffice for Mac is grea...</td>\n",
              "    </tr>\n",
              "    <tr>\n",
              "      <th>1</th>\n",
              "      <td>negative</td>\n",
              "      <td>@Microsoft how about you make a system that do...</td>\n",
              "    </tr>\n",
              "    <tr>\n",
              "      <th>2</th>\n",
              "      <td>negative</td>\n",
              "      <td>I may be ignorant on this issue but... should ...</td>\n",
              "    </tr>\n",
              "    <tr>\n",
              "      <th>3</th>\n",
              "      <td>negative</td>\n",
              "      <td>Thanks to @microsoft, I just may be switching ...</td>\n",
              "    </tr>\n",
              "    <tr>\n",
              "      <th>4</th>\n",
              "      <td>neutral</td>\n",
              "      <td>If I make a game as a #windows10 Universal App...</td>\n",
              "    </tr>\n",
              "  </tbody>\n",
              "</table>\n",
              "</div>\n",
              "      <button class=\"colab-df-convert\" onclick=\"convertToInteractive('df-40dabb28-bc74-4017-a706-b8268aea0913')\"\n",
              "              title=\"Convert this dataframe to an interactive table.\"\n",
              "              style=\"display:none;\">\n",
              "        \n",
              "  <svg xmlns=\"http://www.w3.org/2000/svg\" height=\"24px\"viewBox=\"0 0 24 24\"\n",
              "       width=\"24px\">\n",
              "    <path d=\"M0 0h24v24H0V0z\" fill=\"none\"/>\n",
              "    <path d=\"M18.56 5.44l.94 2.06.94-2.06 2.06-.94-2.06-.94-.94-2.06-.94 2.06-2.06.94zm-11 1L8.5 8.5l.94-2.06 2.06-.94-2.06-.94L8.5 2.5l-.94 2.06-2.06.94zm10 10l.94 2.06.94-2.06 2.06-.94-2.06-.94-.94-2.06-.94 2.06-2.06.94z\"/><path d=\"M17.41 7.96l-1.37-1.37c-.4-.4-.92-.59-1.43-.59-.52 0-1.04.2-1.43.59L10.3 9.45l-7.72 7.72c-.78.78-.78 2.05 0 2.83L4 21.41c.39.39.9.59 1.41.59.51 0 1.02-.2 1.41-.59l7.78-7.78 2.81-2.81c.8-.78.8-2.07 0-2.86zM5.41 20L4 18.59l7.72-7.72 1.47 1.35L5.41 20z\"/>\n",
              "  </svg>\n",
              "      </button>\n",
              "      \n",
              "  <style>\n",
              "    .colab-df-container {\n",
              "      display:flex;\n",
              "      flex-wrap:wrap;\n",
              "      gap: 12px;\n",
              "    }\n",
              "\n",
              "    .colab-df-convert {\n",
              "      background-color: #E8F0FE;\n",
              "      border: none;\n",
              "      border-radius: 50%;\n",
              "      cursor: pointer;\n",
              "      display: none;\n",
              "      fill: #1967D2;\n",
              "      height: 32px;\n",
              "      padding: 0 0 0 0;\n",
              "      width: 32px;\n",
              "    }\n",
              "\n",
              "    .colab-df-convert:hover {\n",
              "      background-color: #E2EBFA;\n",
              "      box-shadow: 0px 1px 2px rgba(60, 64, 67, 0.3), 0px 1px 3px 1px rgba(60, 64, 67, 0.15);\n",
              "      fill: #174EA6;\n",
              "    }\n",
              "\n",
              "    [theme=dark] .colab-df-convert {\n",
              "      background-color: #3B4455;\n",
              "      fill: #D2E3FC;\n",
              "    }\n",
              "\n",
              "    [theme=dark] .colab-df-convert:hover {\n",
              "      background-color: #434B5C;\n",
              "      box-shadow: 0px 1px 3px 1px rgba(0, 0, 0, 0.15);\n",
              "      filter: drop-shadow(0px 1px 2px rgba(0, 0, 0, 0.3));\n",
              "      fill: #FFFFFF;\n",
              "    }\n",
              "  </style>\n",
              "\n",
              "      <script>\n",
              "        const buttonEl =\n",
              "          document.querySelector('#df-40dabb28-bc74-4017-a706-b8268aea0913 button.colab-df-convert');\n",
              "        buttonEl.style.display =\n",
              "          google.colab.kernel.accessAllowed ? 'block' : 'none';\n",
              "\n",
              "        async function convertToInteractive(key) {\n",
              "          const element = document.querySelector('#df-40dabb28-bc74-4017-a706-b8268aea0913');\n",
              "          const dataTable =\n",
              "            await google.colab.kernel.invokeFunction('convertToInteractive',\n",
              "                                                     [key], {});\n",
              "          if (!dataTable) return;\n",
              "\n",
              "          const docLinkHtml = 'Like what you see? Visit the ' +\n",
              "            '<a target=\"_blank\" href=https://colab.research.google.com/notebooks/data_table.ipynb>data table notebook</a>'\n",
              "            + ' to learn more about interactive tables.';\n",
              "          element.innerHTML = '';\n",
              "          dataTable['output_type'] = 'display_data';\n",
              "          await google.colab.output.renderOutput(dataTable, element);\n",
              "          const docLink = document.createElement('div');\n",
              "          docLink.innerHTML = docLinkHtml;\n",
              "          element.appendChild(docLink);\n",
              "        }\n",
              "      </script>\n",
              "    </div>\n",
              "  </div>\n",
              "  "
            ]
          },
          "metadata": {},
          "execution_count": 10
        }
      ]
    },
    {
      "cell_type": "code",
      "source": [
        "def clean_text(x):\n",
        "    x = re.sub(r'https?://\\S+', '', x) # Remove link\n",
        "    x = re.sub(r'#\\w+', '', x) # Remove hashtag\n",
        "    x = re.sub(r'@\\w+', '', x) # Remove mentions\n",
        "    x = re.sub(r'\\n',' ',x) # Remove line breaks\n",
        "    x = re.sub('\\s+', ' ', x).strip() # Remove leading, trailing, and extra spaces\n",
        "    x = re.sub('\\.','',x) # Remove extra dots\n",
        "    for p in string.punctuation:\n",
        "        x = re.sub('\\{}'.format(p),'',x)\n",
        "    return x.lower()"
      ],
      "metadata": {
        "id": "3h-pVrr8TaTj"
      },
      "execution_count": null,
      "outputs": []
    },
    {
      "cell_type": "code",
      "source": [
        "cdf[\"final\"] = cdf['tweets'].apply(lambda x: clean_text(x))"
      ],
      "metadata": {
        "id": "Ylz8_aKFThLa"
      },
      "execution_count": null,
      "outputs": []
    },
    {
      "cell_type": "code",
      "source": [
        "cdf.head()"
      ],
      "metadata": {
        "colab": {
          "base_uri": "https://localhost:8080/",
          "height": 206
        },
        "id": "D95rarSkUItQ",
        "outputId": "c8a434d4-08e9-48f0-f9f8-5eecf05544c8"
      },
      "execution_count": null,
      "outputs": [
        {
          "output_type": "execute_result",
          "data": {
            "text/plain": [
              "  sentiment                                             tweets  \\\n",
              "0  negative  dear @Microsoft the newOoffice for Mac is grea...   \n",
              "1  negative  @Microsoft how about you make a system that do...   \n",
              "2  negative  I may be ignorant on this issue but... should ...   \n",
              "3  negative  Thanks to @microsoft, I just may be switching ...   \n",
              "4   neutral  If I make a game as a #windows10 Universal App...   \n",
              "\n",
              "                                               final  \n",
              "0  dear the newooffice for mac is great and all b...  \n",
              "1  how about you make a system that doesnt eat my...  \n",
              "2  i may be ignorant on this issue but should we ...  \n",
              "3        thanks to  i just may be switching over to   \n",
              "4  if i make a game as a universal app will owner...  "
            ],
            "text/html": [
              "\n",
              "  <div id=\"df-735a5df2-2532-42a5-b0e5-f7abfdcec5f6\">\n",
              "    <div class=\"colab-df-container\">\n",
              "      <div>\n",
              "<style scoped>\n",
              "    .dataframe tbody tr th:only-of-type {\n",
              "        vertical-align: middle;\n",
              "    }\n",
              "\n",
              "    .dataframe tbody tr th {\n",
              "        vertical-align: top;\n",
              "    }\n",
              "\n",
              "    .dataframe thead th {\n",
              "        text-align: right;\n",
              "    }\n",
              "</style>\n",
              "<table border=\"1\" class=\"dataframe\">\n",
              "  <thead>\n",
              "    <tr style=\"text-align: right;\">\n",
              "      <th></th>\n",
              "      <th>sentiment</th>\n",
              "      <th>tweets</th>\n",
              "      <th>final</th>\n",
              "    </tr>\n",
              "  </thead>\n",
              "  <tbody>\n",
              "    <tr>\n",
              "      <th>0</th>\n",
              "      <td>negative</td>\n",
              "      <td>dear @Microsoft the newOoffice for Mac is grea...</td>\n",
              "      <td>dear the newooffice for mac is great and all b...</td>\n",
              "    </tr>\n",
              "    <tr>\n",
              "      <th>1</th>\n",
              "      <td>negative</td>\n",
              "      <td>@Microsoft how about you make a system that do...</td>\n",
              "      <td>how about you make a system that doesnt eat my...</td>\n",
              "    </tr>\n",
              "    <tr>\n",
              "      <th>2</th>\n",
              "      <td>negative</td>\n",
              "      <td>I may be ignorant on this issue but... should ...</td>\n",
              "      <td>i may be ignorant on this issue but should we ...</td>\n",
              "    </tr>\n",
              "    <tr>\n",
              "      <th>3</th>\n",
              "      <td>negative</td>\n",
              "      <td>Thanks to @microsoft, I just may be switching ...</td>\n",
              "      <td>thanks to  i just may be switching over to</td>\n",
              "    </tr>\n",
              "    <tr>\n",
              "      <th>4</th>\n",
              "      <td>neutral</td>\n",
              "      <td>If I make a game as a #windows10 Universal App...</td>\n",
              "      <td>if i make a game as a universal app will owner...</td>\n",
              "    </tr>\n",
              "  </tbody>\n",
              "</table>\n",
              "</div>\n",
              "      <button class=\"colab-df-convert\" onclick=\"convertToInteractive('df-735a5df2-2532-42a5-b0e5-f7abfdcec5f6')\"\n",
              "              title=\"Convert this dataframe to an interactive table.\"\n",
              "              style=\"display:none;\">\n",
              "        \n",
              "  <svg xmlns=\"http://www.w3.org/2000/svg\" height=\"24px\"viewBox=\"0 0 24 24\"\n",
              "       width=\"24px\">\n",
              "    <path d=\"M0 0h24v24H0V0z\" fill=\"none\"/>\n",
              "    <path d=\"M18.56 5.44l.94 2.06.94-2.06 2.06-.94-2.06-.94-.94-2.06-.94 2.06-2.06.94zm-11 1L8.5 8.5l.94-2.06 2.06-.94-2.06-.94L8.5 2.5l-.94 2.06-2.06.94zm10 10l.94 2.06.94-2.06 2.06-.94-2.06-.94-.94-2.06-.94 2.06-2.06.94z\"/><path d=\"M17.41 7.96l-1.37-1.37c-.4-.4-.92-.59-1.43-.59-.52 0-1.04.2-1.43.59L10.3 9.45l-7.72 7.72c-.78.78-.78 2.05 0 2.83L4 21.41c.39.39.9.59 1.41.59.51 0 1.02-.2 1.41-.59l7.78-7.78 2.81-2.81c.8-.78.8-2.07 0-2.86zM5.41 20L4 18.59l7.72-7.72 1.47 1.35L5.41 20z\"/>\n",
              "  </svg>\n",
              "      </button>\n",
              "      \n",
              "  <style>\n",
              "    .colab-df-container {\n",
              "      display:flex;\n",
              "      flex-wrap:wrap;\n",
              "      gap: 12px;\n",
              "    }\n",
              "\n",
              "    .colab-df-convert {\n",
              "      background-color: #E8F0FE;\n",
              "      border: none;\n",
              "      border-radius: 50%;\n",
              "      cursor: pointer;\n",
              "      display: none;\n",
              "      fill: #1967D2;\n",
              "      height: 32px;\n",
              "      padding: 0 0 0 0;\n",
              "      width: 32px;\n",
              "    }\n",
              "\n",
              "    .colab-df-convert:hover {\n",
              "      background-color: #E2EBFA;\n",
              "      box-shadow: 0px 1px 2px rgba(60, 64, 67, 0.3), 0px 1px 3px 1px rgba(60, 64, 67, 0.15);\n",
              "      fill: #174EA6;\n",
              "    }\n",
              "\n",
              "    [theme=dark] .colab-df-convert {\n",
              "      background-color: #3B4455;\n",
              "      fill: #D2E3FC;\n",
              "    }\n",
              "\n",
              "    [theme=dark] .colab-df-convert:hover {\n",
              "      background-color: #434B5C;\n",
              "      box-shadow: 0px 1px 3px 1px rgba(0, 0, 0, 0.15);\n",
              "      filter: drop-shadow(0px 1px 2px rgba(0, 0, 0, 0.3));\n",
              "      fill: #FFFFFF;\n",
              "    }\n",
              "  </style>\n",
              "\n",
              "      <script>\n",
              "        const buttonEl =\n",
              "          document.querySelector('#df-735a5df2-2532-42a5-b0e5-f7abfdcec5f6 button.colab-df-convert');\n",
              "        buttonEl.style.display =\n",
              "          google.colab.kernel.accessAllowed ? 'block' : 'none';\n",
              "\n",
              "        async function convertToInteractive(key) {\n",
              "          const element = document.querySelector('#df-735a5df2-2532-42a5-b0e5-f7abfdcec5f6');\n",
              "          const dataTable =\n",
              "            await google.colab.kernel.invokeFunction('convertToInteractive',\n",
              "                                                     [key], {});\n",
              "          if (!dataTable) return;\n",
              "\n",
              "          const docLinkHtml = 'Like what you see? Visit the ' +\n",
              "            '<a target=\"_blank\" href=https://colab.research.google.com/notebooks/data_table.ipynb>data table notebook</a>'\n",
              "            + ' to learn more about interactive tables.';\n",
              "          element.innerHTML = '';\n",
              "          dataTable['output_type'] = 'display_data';\n",
              "          await google.colab.output.renderOutput(dataTable, element);\n",
              "          const docLink = document.createElement('div');\n",
              "          docLink.innerHTML = docLinkHtml;\n",
              "          element.appendChild(docLink);\n",
              "        }\n",
              "      </script>\n",
              "    </div>\n",
              "  </div>\n",
              "  "
            ]
          },
          "metadata": {},
          "execution_count": 13
        }
      ]
    },
    {
      "cell_type": "code",
      "source": [
        "cdf['sentiment'] = cdf['sentiment'].apply(lambda x: label_encoder(x))\n",
        "cdf['sentiment'].value_counts()"
      ],
      "metadata": {
        "colab": {
          "base_uri": "https://localhost:8080/"
        },
        "id": "6naYwea7UOG1",
        "outputId": "e91dec02-3472-4000-fbf9-d458aad36f65"
      },
      "execution_count": null,
      "outputs": [
        {
          "output_type": "execute_result",
          "data": {
            "text/plain": [
              "2    4011\n",
              "1    2682\n",
              "0    1175\n",
              "Name: sentiment, dtype: int64"
            ]
          },
          "metadata": {},
          "execution_count": 14
        }
      ]
    },
    {
      "cell_type": "code",
      "source": [
        "cdf_positive = cdf[(cdf['sentiment']==2)]\n",
        "cdf_neutral = cdf[(cdf['sentiment']==1)]\n",
        "cdf_negative = cdf[(cdf['sentiment']==0)]\n",
        "cdf_neutral_upsampled = resample(cdf_neutral, replace = True, n_samples = 4011, random_state = 1)\n",
        "cdf_negative_upsampled = resample(cdf_negative, replace = True, n_samples = 4011, random_state = 1)\n",
        "\n",
        "balancedDataset = pd.concat([cdf_positive,cdf_neutral_upsampled,cdf_negative_upsampled]).reset_index(drop=True)\n",
        "balancedDataset['sentiment'].value_counts()"
      ],
      "metadata": {
        "colab": {
          "base_uri": "https://localhost:8080/"
        },
        "id": "aiaK1a5BUzJ1",
        "outputId": "4e355425-d9b7-4435-9f73-420e0e01a1bc"
      },
      "execution_count": null,
      "outputs": [
        {
          "output_type": "execute_result",
          "data": {
            "text/plain": [
              "2    4011\n",
              "1    4011\n",
              "0    4011\n",
              "Name: sentiment, dtype: int64"
            ]
          },
          "metadata": {},
          "execution_count": 15
        }
      ]
    },
    {
      "cell_type": "code",
      "source": [
        "\n",
        "vectorizer = TfidfVectorizer(stop_words = {'english'},ngram_range=(1,2))\n",
        "X = vectorizer.fit_transform(balancedDataset['final'])\n",
        "Y = balancedDataset.sentiment\n",
        "X_train, X_test, Y_train, Y_test = train_test_split(X, Y, train_size = 0.8, shuffle = True)"
      ],
      "metadata": {
        "id": "5K-i-ozGW7jg"
      },
      "execution_count": null,
      "outputs": []
    },
    {
      "cell_type": "code",
      "source": [
        "LR_model = LogisticRegression(max_iter=13000).fit(X_train,Y_train)\n",
        "SVM_model = SVC(kernel='rbf', random_state = 1).fit(X_train, Y_train)\n",
        "NB_model= ComplementNB().fit(X_train,Y_train)"
      ],
      "metadata": {
        "id": "Sg2kMdh1YHfN"
      },
      "execution_count": null,
      "outputs": []
    },
    {
      "cell_type": "code",
      "source": [
        "print(\"LR Score  \\n\", classification_report(Y_test, LR_model.predict(X_test)))\n"
      ],
      "metadata": {
        "colab": {
          "base_uri": "https://localhost:8080/"
        },
        "id": "HA_5vEvjYhz_",
        "outputId": "cf5c8c20-b242-4171-c185-6fa891cefd6b"
      },
      "execution_count": null,
      "outputs": [
        {
          "output_type": "stream",
          "name": "stdout",
          "text": [
            "LR Score  \n",
            "               precision    recall  f1-score   support\n",
            "\n",
            "           0       0.89      0.93      0.91       792\n",
            "           1       0.78      0.76      0.77       822\n",
            "           2       0.76      0.75      0.75       793\n",
            "\n",
            "    accuracy                           0.81      2407\n",
            "   macro avg       0.81      0.81      0.81      2407\n",
            "weighted avg       0.81      0.81      0.81      2407\n",
            "\n"
          ]
        }
      ]
    },
    {
      "cell_type": "code",
      "source": [
        "print(\"SVC Score  \\n\", classification_report(Y_test, SVM_model.predict(X_test)))"
      ],
      "metadata": {
        "colab": {
          "base_uri": "https://localhost:8080/"
        },
        "id": "D0M1Ii1NYv9y",
        "outputId": "26acd7b3-bf60-402f-9383-f70c0e406f9b"
      },
      "execution_count": null,
      "outputs": [
        {
          "output_type": "stream",
          "name": "stdout",
          "text": [
            "SVC Score  \n",
            "               precision    recall  f1-score   support\n",
            "\n",
            "           0       0.99      0.93      0.96       792\n",
            "           1       0.90      0.75      0.82       822\n",
            "           2       0.75      0.92      0.83       793\n",
            "\n",
            "    accuracy                           0.87      2407\n",
            "   macro avg       0.88      0.87      0.87      2407\n",
            "weighted avg       0.88      0.87      0.87      2407\n",
            "\n"
          ]
        }
      ]
    },
    {
      "cell_type": "code",
      "source": [
        "print(\"NB Score  \\n\", classification_report(Y_test, NB_model.predict(X_test)))"
      ],
      "metadata": {
        "colab": {
          "base_uri": "https://localhost:8080/"
        },
        "id": "uqgDkPjjY-MA",
        "outputId": "8cb846fd-cd33-4979-c9be-f1ba88502e34"
      },
      "execution_count": null,
      "outputs": [
        {
          "output_type": "stream",
          "name": "stdout",
          "text": [
            "NB Score  \n",
            "               precision    recall  f1-score   support\n",
            "\n",
            "           0       0.79      0.96      0.87       792\n",
            "           1       0.83      0.74      0.78       822\n",
            "           2       0.80      0.72      0.76       793\n",
            "\n",
            "    accuracy                           0.81      2407\n",
            "   macro avg       0.81      0.81      0.80      2407\n",
            "weighted avg       0.81      0.81      0.80      2407\n",
            "\n"
          ]
        }
      ]
    },
    {
      "cell_type": "markdown",
      "source": [
        "# Final Neural Network Model"
      ],
      "metadata": {
        "id": "Yl3Yw_MYZcxC"
      }
    },
    {
      "cell_type": "code",
      "source": [
        "balancedDataset['final'].apply(lambda x:len(str(x).split())).max()"
      ],
      "metadata": {
        "colab": {
          "base_uri": "https://localhost:8080/"
        },
        "id": "DnCi9YC2ZjR0",
        "outputId": "5761a459-79a5-4a15-d44a-7454006299c2"
      },
      "execution_count": null,
      "outputs": [
        {
          "output_type": "execute_result",
          "data": {
            "text/plain": [
              "1056"
            ]
          },
          "metadata": {},
          "execution_count": 21
        }
      ]
    },
    {
      "cell_type": "code",
      "source": [
        "Y = pd.get_dummies(balancedDataset['sentiment']).values\n",
        "print('Shape of label tensor:', Y.shape)"
      ],
      "metadata": {
        "colab": {
          "base_uri": "https://localhost:8080/"
        },
        "id": "AJbLob2naql-",
        "outputId": "580cfa6b-e760-412b-83bf-335582431226"
      },
      "execution_count": null,
      "outputs": [
        {
          "output_type": "stream",
          "name": "stdout",
          "text": [
            "Shape of label tensor: (12033, 3)\n"
          ]
        }
      ]
    },
    {
      "cell_type": "code",
      "source": [
        "X_train, X_test, Y_train, Y_test = train_test_split(balancedDataset['final'], Y, train_size=.8, random_state=42)"
      ],
      "metadata": {
        "id": "P-tbk2tRa1S9"
      },
      "execution_count": null,
      "outputs": []
    },
    {
      "cell_type": "code",
      "source": [
        "maxlen = 1100\n",
        "\n",
        "tokenizer = Tokenizer(num_words=5000)\n",
        "tokenizer.fit_on_texts(balancedDataset['final'])\n",
        "\n",
        "X_train = tokenizer.texts_to_sequences(X_train)\n",
        "X_test = tokenizer.texts_to_sequences(X_test)\n",
        "\n",
        "vocab_size = len(tokenizer.word_index) + 1  \n",
        "\n",
        "X_train = pad_sequences(X_train, padding='post', maxlen=maxlen)\n",
        "\n",
        "X_test = pad_sequences(X_test, padding='post', maxlen=maxlen)"
      ],
      "metadata": {
        "id": "xz7rxrnna69K"
      },
      "execution_count": null,
      "outputs": []
    },
    {
      "cell_type": "code",
      "source": [
        "def create_embedding_matrix(filepath, word_idx, embedding_dim):\n",
        "    vocab_size = len(word_idx) + 1  \n",
        "    emb = np.zeros((vocab_size, embedding_dim))\n",
        "\n",
        "    with open(filepath, 'r', encoding=\"utf8\") as f:\n",
        "        for i in f:\n",
        "            x = i.split(' ')\n",
        "            w, v = x[0], x[1:]\n",
        "            if w in word_idx:\n",
        "                emb[word_idx[w]] = np.asarray(v)[:embedding_dim]\n",
        "\n",
        "    return emb"
      ],
      "metadata": {
        "id": "KAoUqt2_bEKO"
      },
      "execution_count": null,
      "outputs": []
    },
    {
      "cell_type": "code",
      "source": [
        "embedding_dim = 300\n",
        "embedding_matrix = create_embedding_matrix('/content/drive/MyDrive/Colab Notebooks/dataset/glove.42B.300d.txt', tokenizer.word_index, embedding_dim)"
      ],
      "metadata": {
        "id": "FBb4qEZIbG_m"
      },
      "execution_count": null,
      "outputs": []
    },
    {
      "cell_type": "code",
      "source": [
        "model = Sequential()\n",
        "model.add(layers.Embedding(vocab_size, embedding_dim, \n",
        "                            weights=[embedding_matrix], \n",
        "                            input_length=maxlen, \n",
        "                            trainable=False))\n",
        "model.add(Bidirectional(LSTM(300,activation='tanh', dropout=0.1, recurrent_dropout=0)))\n",
        "model.add(Flatten())\n",
        "model.add(Dense(200, activation='relu'))\n",
        "model.add(Dense(3, activation='softmax'))\n",
        "model.compile(loss='categorical_crossentropy', optimizer='adam', metrics=['accuracy'])\n",
        "\n",
        "model.summary()"
      ],
      "metadata": {
        "colab": {
          "base_uri": "https://localhost:8080/"
        },
        "id": "xKbK-MRIbcaP",
        "outputId": "75af62bd-71d5-42a5-90fb-96723a94c165"
      },
      "execution_count": null,
      "outputs": [
        {
          "output_type": "stream",
          "name": "stdout",
          "text": [
            "Model: \"sequential\"\n",
            "_________________________________________________________________\n",
            " Layer (type)                Output Shape              Param #   \n",
            "=================================================================\n",
            " embedding (Embedding)       (None, 1100, 300)         4052400   \n",
            "                                                                 \n",
            " bidirectional (Bidirectiona  (None, 600)              1442400   \n",
            " l)                                                              \n",
            "                                                                 \n",
            " flatten (Flatten)           (None, 600)               0         \n",
            "                                                                 \n",
            " dense (Dense)               (None, 200)               120200    \n",
            "                                                                 \n",
            " dense_1 (Dense)             (None, 3)                 603       \n",
            "                                                                 \n",
            "=================================================================\n",
            "Total params: 5,615,603\n",
            "Trainable params: 1,563,203\n",
            "Non-trainable params: 4,052,400\n",
            "_________________________________________________________________\n"
          ]
        }
      ]
    },
    {
      "cell_type": "code",
      "source": [
        "epochs = 20\n",
        "batch_size = 64\n",
        "\n",
        "history = model.fit(X_train, Y_train, epochs=epochs, batch_size=batch_size,validation_split=0.1,callbacks=[EarlyStopping(monitor='val_loss', patience=3, min_delta=0.0001)])"
      ],
      "metadata": {
        "colab": {
          "base_uri": "https://localhost:8080/"
        },
        "id": "OjFcreurcObl",
        "outputId": "bebeda4c-9409-4e31-e971-309fa164551a"
      },
      "execution_count": null,
      "outputs": [
        {
          "output_type": "stream",
          "name": "stdout",
          "text": [
            "Epoch 1/20\n",
            "136/136 [==============================] - 45s 271ms/step - loss: 0.9278 - accuracy: 0.5406 - val_loss: 0.9046 - val_accuracy: 0.5379\n",
            "Epoch 2/20\n",
            "136/136 [==============================] - 37s 275ms/step - loss: 0.7979 - accuracy: 0.6341 - val_loss: 0.8760 - val_accuracy: 0.5670\n",
            "Epoch 3/20\n",
            "136/136 [==============================] - 38s 279ms/step - loss: 0.6779 - accuracy: 0.7001 - val_loss: 0.7610 - val_accuracy: 0.6739\n",
            "Epoch 4/20\n",
            "136/136 [==============================] - 38s 283ms/step - loss: 0.5455 - accuracy: 0.7707 - val_loss: 0.6250 - val_accuracy: 0.7466\n",
            "Epoch 5/20\n",
            "136/136 [==============================] - 39s 287ms/step - loss: 0.4119 - accuracy: 0.8296 - val_loss: 0.5599 - val_accuracy: 0.7747\n",
            "Epoch 6/20\n",
            "136/136 [==============================] - 40s 292ms/step - loss: 0.2969 - accuracy: 0.8776 - val_loss: 0.5541 - val_accuracy: 0.7985\n",
            "Epoch 7/20\n",
            "136/136 [==============================] - 40s 294ms/step - loss: 0.2148 - accuracy: 0.9165 - val_loss: 0.6513 - val_accuracy: 0.7975\n",
            "Epoch 8/20\n",
            "136/136 [==============================] - 40s 294ms/step - loss: 0.1486 - accuracy: 0.9432 - val_loss: 0.7755 - val_accuracy: 0.8058\n",
            "Epoch 9/20\n",
            "136/136 [==============================] - 40s 294ms/step - loss: 0.0983 - accuracy: 0.9634 - val_loss: 0.7992 - val_accuracy: 0.8172\n"
          ]
        }
      ]
    },
    {
      "cell_type": "code",
      "source": [
        "accr = model.evaluate(X_test,Y_test)\n",
        "print('Test set\\n  Loss: {:0.3f}\\n  Accuracy: {:0.3f}'.format(accr[0],accr[1]))"
      ],
      "metadata": {
        "colab": {
          "base_uri": "https://localhost:8080/"
        },
        "id": "ifeC8ZwJfLZw",
        "outputId": "4f44dbed-5adf-4b41-881f-8f684ca762be"
      },
      "execution_count": null,
      "outputs": [
        {
          "output_type": "stream",
          "name": "stdout",
          "text": [
            "76/76 [==============================] - 5s 60ms/step - loss: 0.6533 - accuracy: 0.8330\n",
            "Test set\n",
            "  Loss: 0.653\n",
            "  Accuracy: 0.833\n"
          ]
        }
      ]
    }
  ]
}